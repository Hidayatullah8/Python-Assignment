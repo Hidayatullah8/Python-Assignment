{
 "cells": [
  {
   "cell_type": "code",
   "execution_count": 2,
   "metadata": {},
   "outputs": [
    {
     "name": "stdout",
     "output_type": "stream",
     "text": [
      "Enter a Number: 8\n",
      "Factorial of 8 is:  40320\n"
     ]
    }
   ],
   "source": [
    "# Assignment 5\n",
    "\n",
    "\"\"\" Q1: Write a Python function to calculate the factorial of a number (a non-negative integer). The function accepts the \n",
    "number as an argument.\"\"\"\n",
    "\n",
    "def factorial(num):\n",
    "    if num == 1:\n",
    "        return num\n",
    "    else:\n",
    "        return num * factorial(num - 1)\n",
    "num = int(input(\"Enter a Number: \"))\n",
    "if num < 0:\n",
    "    print(\"Factorial cannot be found for negative numbers\")\n",
    "elif num == 0:\n",
    "    print(\"Factorial of 0 is 1\")\n",
    "else:\n",
    "    print(\"Factorial of\", num, \"is: \", factorial(num))"
   ]
  },
  {
   "cell_type": "code",
   "execution_count": 4,
   "metadata": {},
   "outputs": [
    {
     "name": "stdout",
     "output_type": "stream",
     "text": [
      "Original String :  Python Programming Class\n",
      "No. of Upper case characters :  3\n",
      "No. of Lower case Characters :  19\n"
     ]
    }
   ],
   "source": [
    "\"\"\" Q2: Write a Python function that accepts a string and calculate the number of upper case letters and lower case letters.\"\"\"\n",
    "\n",
    "def string_test(str):\n",
    "    d={\"UPPER_CASE\":0, \"LOWER_CASE\":0}\n",
    "    for test in str:\n",
    "        if test.isupper():\n",
    "           d[\"UPPER_CASE\"]+=1\n",
    "        elif test.islower():\n",
    "           d[\"LOWER_CASE\"]+=1\n",
    "        else:\n",
    "           pass\n",
    "    print (\"Original String : \", str)\n",
    "    print (\"No. of Upper case characters : \", d[\"UPPER_CASE\"])\n",
    "    print (\"No. of Lower case Characters : \", d[\"LOWER_CASE\"])\n",
    " \n",
    "string_test('Python Programming Class')"
   ]
  },
  {
   "cell_type": "code",
   "execution_count": 10,
   "metadata": {},
   "outputs": [
    {
     "name": "stdout",
     "output_type": "stream",
     "text": [
      "[2, 22, 4, 12, 8, 78]\n"
     ]
    }
   ],
   "source": [
    "\"\"\" Q3: Write a Python function to print the even numbers from a given list.\"\"\"\n",
    "\n",
    "def even_num(l):\n",
    "    numbers = []\n",
    "    for n in l:\n",
    "        if n % 2 == 0:\n",
    "            numbers.append(n)\n",
    "    return numbers\n",
    "print(even_num([9, 2, 22, 4, 5, 12, 7, 8, 9, 67, 43, 78,]))"
   ]
  },
  {
   "cell_type": "code",
   "execution_count": 9,
   "metadata": {},
   "outputs": [
    {
     "name": "stdout",
     "output_type": "stream",
     "text": [
      "True\n"
     ]
    }
   ],
   "source": [
    "\"\"\" Q4: Write a Python function that checks whether a passed string is palindrome or not. Note: A palindrome is a word, phrase,\n",
    "or sequence that reads the same backward as forward, e.g., madam. \"\"\"\n",
    "\n",
    "\n",
    "def Palindrome(string):\n",
    "    left_pos = 0\n",
    "    right_pos = len(string) - 1\n",
    "    while right_pos >= left_pos:\n",
    "        if not string[left_pos] == string[right_pos]:\n",
    "            return False\n",
    "        left_pos += 1\n",
    "        right_pos -= 1\n",
    "    return True\n",
    "print(Palindrome('civic')) "
   ]
  },
  {
   "cell_type": "code",
   "execution_count": 14,
   "metadata": {},
   "outputs": [
    {
     "name": "stdout",
     "output_type": "stream",
     "text": [
      "True\n"
     ]
    }
   ],
   "source": [
    "\"\"\" Q5: Write a Python function that takes a number as a parameter and check the number is prime or not.\"\"\"\n",
    "\n",
    "def prime_num(num):\n",
    "    if (num==1):\n",
    "        return False\n",
    "    elif (num==2):\n",
    "        return True;\n",
    "    else:\n",
    "        for x in range(2,num):\n",
    "            if(num % x==0):\n",
    "                return False\n",
    "        return True             \n",
    "print(prime_num(13))"
   ]
  },
  {
   "cell_type": "code",
   "execution_count": 5,
   "metadata": {},
   "outputs": [
    {
     "name": "stdout",
     "output_type": "stream",
     "text": [
      "sugar\n",
      "fruits\n",
      "flour\n",
      "vegetables\n"
     ]
    }
   ],
   "source": [
    "\"\"\" Q6:  Suppose a customer is shopping in a market and you need to print all the items which user bought from market. \n",
    "Write a function which accepts the multiple arguments of user shopping list and print all the items which user bought from \n",
    "market. \n",
    "(Hint: Arbitrary Argument concept can make this task ease)\"\"\"\n",
    "\n",
    " \n",
    "def shopping_list(*names):  \n",
    "    for arg in names:  \n",
    "        print (arg) \n",
    "    \n",
    "shopping_list('sugar', 'fruits', 'flour', 'vegetables')"
   ]
  }
 ],
 "metadata": {
  "kernelspec": {
   "display_name": "Python 3",
   "language": "python",
   "name": "python3"
  },
  "language_info": {
   "codemirror_mode": {
    "name": "ipython",
    "version": 3
   },
   "file_extension": ".py",
   "mimetype": "text/x-python",
   "name": "python",
   "nbconvert_exporter": "python",
   "pygments_lexer": "ipython3",
   "version": "3.7.4"
  }
 },
 "nbformat": 4,
 "nbformat_minor": 2
}
