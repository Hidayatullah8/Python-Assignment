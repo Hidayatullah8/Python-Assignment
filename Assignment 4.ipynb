{
 "cells": [
  {
   "cell_type": "code",
   "execution_count": 6,
   "metadata": {},
   "outputs": [
    {
     "name": "stdout",
     "output_type": "stream",
     "text": [
      "Hidayat\n",
      "Ullah\n",
      "20\n",
      "Karachi\n",
      "Intermediate\n"
     ]
    }
   ],
   "source": [
    "# Assignment 4\n",
    "\n",
    "\"\"\" Q1: Use a dictionary to store information about a person you know. Store their first name, last name, age, and the city in\n",
    "which they live. You should have keys such as first_name, last_name, age, and city. Print each piece of information stored in \n",
    "your dictionary. Add a new key value pair about qualification then update the qualification value to high academic level then \n",
    "delete it.\"\"\"\n",
    "\n",
    "person_info = {\n",
    "    'first_name': 'Hidayat',\n",
    "    'last_name': 'Ullah',\n",
    "    'age': 20,\n",
    "    'city': 'Karachi',\n",
    "    'Qualification': 'Intermediate',\n",
    "    }\n",
    "print(person_info['first_name'])\n",
    "print(person_info['last_name'])\n",
    "print(person_info['age'])\n",
    "print(person_info['city'])\n",
    "print(person_info['Qualification'])"
   ]
  },
  {
   "cell_type": "code",
   "execution_count": 12,
   "metadata": {},
   "outputs": [
    {
     "name": "stdout",
     "output_type": "stream",
     "text": [
      "\n",
      "Lahore is in Pakistan.\n",
      "  It has a population of about 13546334.\n",
      "  The  Lahore Is The Oldest City Of Pakistan And Minare-E-Pakistan Situated Here.\n",
      "\n",
      "Kuala Lumpur is in Malaysia.\n",
      "  It has a population of about 7780301.\n",
      "  The  Kuala Lumpur Is The City Who Generate The Huge Amount Of Revenue From Tourist.\n",
      "\n",
      "Colombo is in Sri Lanka.\n",
      "  It has a population of about 752993.\n",
      "  The  Colombo Is The Biggest Shopping Hub Of Sri Lanka,People Is More Enjoying To Check Out The Shopping Stock.\n"
     ]
    }
   ],
   "source": [
    "\"\"\" Q2: Make a dictionary called cities. Use the names of three cities as keys in your dictionary. Create a dictionary of\n",
    "information about each city and include the country that the city is in, its approximate population, and one fact about that\n",
    "city. The keys for each city’s dictionary should be something like country, population, and fact. Print the name of each city\n",
    "and all of the information you have stored about it.\"\"\"\n",
    "\n",
    "cities = {\n",
    "    'Lahore': {\n",
    "        'country': 'Pakistan',\n",
    "        'population': 13546334,\n",
    "        'fact': 'Lahore is the oldest city of pakistan and Minare-e-Pakistan situated here.',\n",
    "        },\n",
    "    'Kuala Lumpur': {\n",
    "        'country': 'Malaysia',\n",
    "        'population': 7780301,\n",
    "        'fact': 'Kuala Lumpur is the city who generate the huge amount of Revenue from Tourist.',\n",
    "        },\n",
    "    'Colombo': {\n",
    "        'country': 'Sri Lanka',\n",
    "        'population': 752993,\n",
    "        'fact': 'Colombo is the biggest shopping Hub of Sri Lanka,people is more enjoying to check out the shopping stock.',\n",
    "        }\n",
    "    }\n",
    "\n",
    "for city, city_info in cities.items():\n",
    "    country = city_info['country'].title()\n",
    "    population = city_info['population']\n",
    "    fact = city_info['fact'].title()\n",
    "\n",
    "    print(\"\\n\" + city.title() + \" is in \" + country + \".\")\n",
    "    print(\"  It has a population of about \" + str(population) + \".\")\n",
    "    print(\"  The \",fact)"
   ]
  },
  {
   "cell_type": "code",
   "execution_count": null,
   "metadata": {},
   "outputs": [
    {
     "name": "stdout",
     "output_type": "stream",
     "text": [
      "\n",
      "Please enter your age: 35\n",
      "Your ticket is $15\n",
      "\n",
      "Please enter your age: 2\n",
      "Your ticket is free\n",
      "\n",
      "Please enter your age: 9\n",
      "Your ticket is $10\n"
     ]
    }
   ],
   "source": [
    "\"\"\" Q3: A movie theater charges different ticket prices depending on a person’s age. If a person is under the age of 3, the \n",
    "ticket is free; if they are between 3 and 12, the ticket is $10; and if they are over age 12, the ticket is $15. Write a loop\n",
    "in which you ask users their age, and then tell them the cost of their movie ticket.\"\"\"\n",
    "\n",
    "ticket = \"\\nPlease enter your age: \"\n",
    "while True:\n",
    "    age = input(ticket)\n",
    "    age = int(age)\n",
    "    if age == 'quit':\n",
    "        break\n",
    "    elif age < 3:\n",
    "        print(\"Your ticket is free\")\n",
    "    elif age <= 12:\n",
    "        print(\"Your ticket is $10\")\n",
    "    else:\n",
    "        print(\"Your ticket is $15\")"
   ]
  },
  {
   "cell_type": "code",
   "execution_count": 2,
   "metadata": {},
   "outputs": [
    {
     "name": "stdout",
     "output_type": "stream",
     "text": [
      "One of my favorite books is Alice in Wonderland\n"
     ]
    }
   ],
   "source": [
    "\"\"\" Q4: Write a function called favorite_book() that accepts one parameter, title. The function should print a message, such \n",
    "as One of my favorite books is Alice in Wonderland. Call the function, making sure to include a book title as an argument in\n",
    "the function call.\"\"\"\n",
    "\n",
    "def favorite_book(title):\n",
    "    print(\"One of my favorite books is\",title)\n",
    "favorite_book('Alice in Wonderland')"
   ]
  },
  {
   "cell_type": "code",
   "execution_count": null,
   "metadata": {},
   "outputs": [
    {
     "name": "stdout",
     "output_type": "stream",
     "text": [
      "Guess a number 0 to 30 : 30\n",
      "Number is too high\n",
      "Guess a number 0 to 30 : 25\n",
      "Number is too high\n",
      "Guess a number 0 to 30 : 1\n",
      "Number is too low\n",
      "Guess a number 0 to 30 : -8\n",
      "Number is too low\n"
     ]
    }
   ],
   "source": [
    "\"\"\" Q5: Guess the number game\n",
    "Write a program which randomly generate a number between 1 to 30 and ask the user in input field to guess the correct number.\n",
    "Give three chances to user guess the number and also give hint to user if hidden number is greater or smaller than the number\n",
    "he given to input field.\"\"\"\n",
    "\n",
    "import random\n",
    "number=random.randint(0,30)\n",
    "def main():\n",
    "    guess=int(input('Guess a number 0 to 30 : '))\n",
    "    if guess == number:\n",
    "        print(\"You guess the correct number\")\n",
    "    elif guess > number:\n",
    "        print(\"Number is too high\")\n",
    "        main()\n",
    "    else:\n",
    "        print(\"Number is too low\")\n",
    "        main()\n",
    "main()\n",
    "        \n"
   ]
  }
 ],
 "metadata": {
  "kernelspec": {
   "display_name": "Python 3",
   "language": "python",
   "name": "python3"
  },
  "language_info": {
   "codemirror_mode": {
    "name": "ipython",
    "version": 3
   },
   "file_extension": ".py",
   "mimetype": "text/x-python",
   "name": "python",
   "nbconvert_exporter": "python",
   "pygments_lexer": "ipython3",
   "version": "3.7.4"
  }
 },
 "nbformat": 4,
 "nbformat_minor": 2
}
