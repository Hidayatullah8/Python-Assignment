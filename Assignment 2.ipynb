{
 "cells": [
  {
   "cell_type": "code",
   "execution_count": null,
   "metadata": {},
   "outputs": [],
   "source": [
    "#  Assignment 2\n",
    "\n",
    "# Write a program which takes 5 inputs from user for different subject's marks, total it and generate mark sheet using grades.\n",
    "\n",
    "Mathematics=int(input(\"Enter marks of the second subject: \"))\n",
    "Chemistry=int(input(\"Enter marks of the second subject: \"))\n",
    "English=int(input(\"Enter marks of the third subject: \"))\n",
    "Urdu=int(input(\"Enter marks of the fourth subject: \"))\n",
    "Islamiat=int(input(\"Enter marks of the fifth subject: \"))\n",
    "avg=(Mathematics+Chemistry+English+Urdu+Islamiat)/5\n",
    "if(avg>=90):\n",
    "    print(\"Grade: A\")\n",
    "elif(avg>=80&avg<90):\n",
    "    print(\"Grade: B\")\n",
    "elif(avg>=70&avg<80):\n",
    "    print(\"Grade: C\")\n",
    "elif(avg>=60&avg<70):\n",
    "    print(\"Grade: D\")\n",
    "else:\n",
    "    print(\"Grade: F\")"
   ]
  },
  {
   "cell_type": "code",
   "execution_count": null,
   "metadata": {},
   "outputs": [],
   "source": [
    "# Write a program which take input from user and identify that the given number is even or odd ?\n",
    "input_num = int(input('Please input a number'))\n",
    "if input_num % 2 == 0:\n",
    " print(input_num,\" is even\")\n",
    "else:\n",
    " print(input_num,\" is odd\")"
   ]
  },
  {
   "cell_type": "code",
   "execution_count": 7,
   "metadata": {},
   "outputs": [
    {
     "name": "stdout",
     "output_type": "stream",
     "text": [
      "Length of the given list is : 7\n"
     ]
    }
   ],
   "source": [
    "# Write a program which print the length of the list ?\n",
    "list_length = [7, 9, 7, 4, 6, 1, 0]\n",
    "print(\"Length of the given list is :\",len(list_length))"
   ]
  },
  {
   "cell_type": "code",
   "execution_count": 8,
   "metadata": {},
   "outputs": [
    {
     "name": "stdout",
     "output_type": "stream",
     "text": [
      "Sum of the all numeric items is : 32\n"
     ]
    }
   ],
   "source": [
    "# Write a python program to sum all the numeric items in a list ?\n",
    "list_data = [9, 2, 1, 6, 5, 9]\n",
    "total = sum(list_data)\n",
    "print(\"Sum of the all numeric items is :\",total)"
   ]
  },
  {
   "cell_type": "code",
   "execution_count": 12,
   "metadata": {},
   "outputs": [
    {
     "name": "stdout",
     "output_type": "stream",
     "text": [
      "Largest element in the list is : 98\n"
     ]
    }
   ],
   "source": [
    "# Write a python program to get the largest number from a numeric list.\n",
    "list_numbers = [77, 4, 53, 98, 70, 23]\n",
    "print(\"Largest element in the list is :\",max(list_numbers))"
   ]
  },
  {
   "cell_type": "code",
   "execution_count": 13,
   "metadata": {},
   "outputs": [
    {
     "name": "stdout",
     "output_type": "stream",
     "text": [
      "4\n",
      "3\n",
      "2\n",
      "1\n",
      "3\n"
     ]
    }
   ],
   "source": [
    "# Write a program that prints out all the elements of the list that are less than 5.\n",
    "list_data = [4, 7, 3, 9, 2, 76, 1, 88, 3, 55]\n",
    "for i in list_data:\n",
    "    if i<5:\n",
    "        print(i)"
   ]
  }
 ],
 "metadata": {
  "kernelspec": {
   "display_name": "Python 3",
   "language": "python",
   "name": "python3"
  },
  "language_info": {
   "codemirror_mode": {
    "name": "ipython",
    "version": 3
   },
   "file_extension": ".py",
   "mimetype": "text/x-python",
   "name": "python",
   "nbconvert_exporter": "python",
   "pygments_lexer": "ipython3",
   "version": "3.7.4"
  }
 },
 "nbformat": 4,
 "nbformat_minor": 2
}
