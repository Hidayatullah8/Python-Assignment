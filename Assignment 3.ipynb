{
 "cells": [
  {
   "cell_type": "code",
   "execution_count": 15,
   "metadata": {},
   "outputs": [
    {
     "name": "stdout",
     "output_type": "stream",
     "text": [
      "Enter your first number: 5\n",
      "Enter your second number: 5\n",
      "5 + 5 = \n",
      "10\n",
      "5 - 5 = \n",
      "0\n",
      "5 * 5 = \n",
      "25\n",
      "5 / 5 = \n",
      "1.0\n",
      "5 ** 5 = \n",
      "3125\n"
     ]
    }
   ],
   "source": [
    "# Assignment 3:\n",
    "\n",
    "# Q1: Make a calculator using Python with addition, subtraction, multiplication,division and power. \n",
    "\n",
    "number_1 = int(input('Enter your first number: '))\n",
    "number_2 = int(input('Enter your second number: '))\n",
    "\n",
    "# Addition\n",
    "print('{} + {} = '.format(number_1, number_2))\n",
    "print(number_1 + number_2)\n",
    "\n",
    "# Subtraction\n",
    "print('{} - {} = '.format(number_1, number_2))\n",
    "print(number_1 - number_2)\n",
    "\n",
    "# Multiplication\n",
    "print('{} * {} = '.format(number_1, number_2))\n",
    "print(number_1 * number_2)\n",
    "\n",
    "# Division\n",
    "print('{} / {} = '.format(number_1, number_2))\n",
    "print(number_1 / number_2)\n",
    "\n",
    "# Power\n",
    "print('{} ** {} = '.format(number_1, number_2))\n",
    "print(number_1 ** number_2)"
   ]
  },
  {
   "cell_type": "code",
   "execution_count": 29,
   "metadata": {},
   "outputs": [
    {
     "name": "stdout",
     "output_type": "stream",
     "text": [
      "Check if 4 exists in list\n",
      "Element Exists 1\n"
     ]
    }
   ],
   "source": [
    "# Q2: Write a program to check if there is any numeric value in list using for loop.\n",
    "\n",
    "test_list = [ 1, 6, 3, 5, 3, 4 ]  \n",
    "print(\"Check if 4 exists in list\") \n",
    "for i in test_list: \n",
    "    if(i == 1) : \n",
    "        print (\"Element Exists\",i) "
   ]
  },
  {
   "cell_type": "code",
   "execution_count": 44,
   "metadata": {},
   "outputs": [
    {
     "name": "stdout",
     "output_type": "stream",
     "text": [
      "Current Dict is:  {'A,B,C'}\n",
      "Updated Dict is:  {'D, E, F', 'A,B,C'}\n"
     ]
    }
   ],
   "source": [
    "# Q3: Write a Python script to add a key to a dictionary.\n",
    "\n",
    "dictionary = {'A,B,C'} \n",
    "print(\"Current Dict is: \", dictionary) \n",
    "  \n",
    "# adding key \n",
    "dictionary.update({'D, E, F'}) \n",
    "print(\"Updated Dict is: \",dictionary)"
   ]
  },
  {
   "cell_type": "code",
   "execution_count": 48,
   "metadata": {},
   "outputs": [
    {
     "name": "stdout",
     "output_type": "stream",
     "text": [
      "Sum of the all numeric items in dictionary : 37\n"
     ]
    }
   ],
   "source": [
    "# Q4: Write a Python program to sum all the numeric items in a dictionary.\n",
    "\n",
    "list_data = (9, 6, 8, 5, 2, 7)\n",
    "total = sum(list_data)\n",
    "print(\"Sum of the all numeric items in dictionary :\",total)"
   ]
  },
  {
   "cell_type": "code",
   "execution_count": 106,
   "metadata": {},
   "outputs": [
    {
     "name": "stdout",
     "output_type": "stream",
     "text": [
      "[7, 9, 12]\n"
     ]
    }
   ],
   "source": [
    "# Q5: Write a program to identify duplicate values from list.\n",
    "\n",
    "lst = [ 7, 6, 9, 12, 7, 30, 15, 9, 45, 36, 12, 12]\n",
    "dupItems = []\n",
    "uniqItems = {}\n",
    "for x in lst:\n",
    "   if x not in uniqItems:\n",
    "      uniqItems[x] = 1\n",
    "   else:\n",
    "      if uniqItems[x] == 1:\n",
    "         dupItems.append(x)\n",
    "      uniqItems[x] += 1\n",
    "print(dupItems)"
   ]
  },
  {
   "cell_type": "code",
   "execution_count": 101,
   "metadata": {},
   "outputs": [
    {
     "name": "stdout",
     "output_type": "stream",
     "text": [
      "{'z': 10, 'l': 50, 'c': 74, 'm': 12, 'f': 44, 'g': 19}\n",
      "Key is Present\n"
     ]
    }
   ],
   "source": [
    "# Q6: Write a Python script to check if a given key already exists in a dictionary.\n",
    "\n",
    "list = {'z': 10, 'l': 50, 'c': 74, 'm': 12, 'f': 44, 'g': 19}\n",
    "print(list)\n",
    "if 'm' in list.keys():\n",
    "    print(\"Key is Present\")\n",
    "else:\n",
    "    print(\"Key is not Present\")"
   ]
  }
 ],
 "metadata": {
  "kernelspec": {
   "display_name": "Python 3",
   "language": "python",
   "name": "python3"
  },
  "language_info": {
   "codemirror_mode": {
    "name": "ipython",
    "version": 3
   },
   "file_extension": ".py",
   "mimetype": "text/x-python",
   "name": "python",
   "nbconvert_exporter": "python",
   "pygments_lexer": "ipython3",
   "version": "3.7.4"
  }
 },
 "nbformat": 4,
 "nbformat_minor": 2
}
