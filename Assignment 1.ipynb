{
 "cells": [
  {
   "cell_type": "code",
   "execution_count": 43,
   "metadata": {},
   "outputs": [
    {
     "name": "stdout",
     "output_type": "stream",
     "text": [
      " Twinkle, twinkle, little star,\n",
      "                How I wonder what you are!\n",
      "                      Up above the world so high,\n",
      "                      Link a diamond in the sky.\n",
      "          Twinkle, twinkle, little star,\n",
      "                How I wonder what you are \n"
     ]
    }
   ],
   "source": [
    "str = \"\"\" Twinkle, twinkle, little star,\n",
    "                How I wonder what you are!\n",
    "                      Up above the world so high,\n",
    "                      Link a diamond in the sky.\n",
    "          Twinkle, twinkle, little star,\n",
    "                How I wonder what you are \"\"\"\n",
    "print(str)"
   ]
  },
  {
   "cell_type": "code",
   "execution_count": 29,
   "metadata": {},
   "outputs": [
    {
     "name": "stdout",
     "output_type": "stream",
     "text": [
      "The current version of the Python on my Computer is: \n",
      " 3.7.4 (default, Aug  9 2019, 18:34:13) [MSC v.1915 64 bit (AMD64)]\n"
     ]
    }
   ],
   "source": [
    "python_version = (\"The current version of the Python on my Computer is: \\n\")\n",
    "print(python_version,sys.version)\n",
    "\n",
    "\n",
    "\n"
   ]
  },
  {
   "cell_type": "code",
   "execution_count": 45,
   "metadata": {},
   "outputs": [
    {
     "name": "stdout",
     "output_type": "stream",
     "text": [
      "Current Date and Time is : 2019-11-05 08:49:25.017633\n"
     ]
    }
   ],
   "source": [
    "Current_Date_Time = datetime.datetime.now()\n",
    "print(\"Current Date and Time is :\",Current_Date_Time)"
   ]
  },
  {
   "cell_type": "code",
   "execution_count": 93,
   "metadata": {
    "scrolled": true
   },
   "outputs": [
    {
     "name": "stdout",
     "output_type": "stream",
     "text": [
      "Input the radius of the circle :5.7\n",
      "The Area of the circle is  102.07034531513239\n"
     ]
    }
   ],
   "source": [
    "from math import pi\n",
    "radius = float(input (\"Input the radius of the circle :\"))\n",
    "area = pi*radius*radius\n",
    "print(\"The Area of the circle is \",area)"
   ]
  },
  {
   "cell_type": "code",
   "execution_count": 82,
   "metadata": {},
   "outputs": [
    {
     "name": "stdout",
     "output_type": "stream",
     "text": [
      "Input your first name : Hidayat\n",
      "Input your last name : Ullah\n",
      "Ullah Hidayat\n"
     ]
    }
   ],
   "source": [
    "first_name = input(\"Input your first name : \")\n",
    "last_name = input(\"Input your last name : \")\n",
    "print( last_name + \" \" + first_name)"
   ]
  },
  {
   "cell_type": "code",
   "execution_count": 77,
   "metadata": {},
   "outputs": [
    {
     "name": "stdout",
     "output_type": "stream",
     "text": [
      "Enter the first number you want to add : 10\n",
      "Enter the second number you wand to add : 5\n",
      "The sum is :  15\n"
     ]
    }
   ],
   "source": [
    "number_1 = int(input(\"Enter the first number you want to add : \"))\n",
    "number_2 = int(input(\"Enter the second number you wand to add : \"))\n",
    "sum = number_1 + number_2\n",
    "print(\"The sum is : \", sum)\n",
    "\n"
   ]
  }
 ],
 "metadata": {
  "kernelspec": {
   "display_name": "Python 3",
   "language": "python",
   "name": "python3"
  },
  "language_info": {
   "codemirror_mode": {
    "name": "ipython",
    "version": 3
   },
   "file_extension": ".py",
   "mimetype": "text/x-python",
   "name": "python",
   "nbconvert_exporter": "python",
   "pygments_lexer": "ipython3",
   "version": "3.7.4"
  }
 },
 "nbformat": 4,
 "nbformat_minor": 2
}
